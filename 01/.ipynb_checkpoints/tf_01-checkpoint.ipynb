{
 "cells": [
  {
   "cell_type": "markdown",
   "metadata": {
    "id": "k5y1ANR33NY6"
   },
   "source": [
    "Chapter01 인공지능/딥러닝/텐서플로 설치\n",
    "\n",
    "01 인공지능과 딥러닝\n",
    "\n",
    "02 텐서플로 설치"
   ]
  },
  {
   "cell_type": "markdown",
   "metadata": {
    "id": "OQR3LPuS73Ly"
   },
   "source": [
    "## Deep Learning"
   ]
  },
  {
   "cell_type": "markdown",
   "metadata": {
    "id": "CR6BRHU-7mhx"
   },
   "source": [
    "\n",
    "> Deep learning is part of a broader family of machine learning methods, which is based on artificial neural networks with representation learning. Learning can be supervised, semi-supervised or unsupervised. https://en.wikipedia.org/wiki/Deep_learning\n",
    "\n",
    "<img src=\"https://upload.wikimedia.org/wikipedia/commons/thumb/b/bb/AI-ML-DL.svg/800px-AI-ML-DL.svg.png\" width=400>"
   ]
  },
  {
   "cell_type": "markdown",
   "metadata": {
    "id": "4yRmyJD57tBA"
   },
   "source": [
    "## AI History"
   ]
  },
  {
   "cell_type": "markdown",
   "metadata": {
    "id": "F8atrrB0BEAu"
   },
   "source": [
    "http://beamlab.org/images/deep_learning_101/nn_timeline.jpg"
   ]
  },
  {
   "cell_type": "markdown",
   "metadata": {
    "id": "fgn1bQyV7wxI"
   },
   "source": [
    "## DL Tasks & Models"
   ]
  },
  {
   "cell_type": "markdown",
   "metadata": {
    "id": "LZZQBkLxIcSf"
   },
   "source": [
    "| Application      | Model | Tensorflow Tutorial | Project |\n",
    "| ----------- | ----------- | ----------- | ------------ |\n",
    "| Image Classification| Alexnet, VGG, Resnet50, ViT | https://www.tensorflow.org/tutorials/keras/classification <br> https://keras.io/api/applications/| 병 분류 |\n",
    "| Image Generation      | GAN, DCGAN, Stable Diffusion <a href=\"https://www.midjourney.com\"> Midjourney </a>| https://www.tensorflow.org/tutorials/generative/dcgan  <br> https://www.tensorflow.org/tutorials/generative/generate_images_with_stable_diffusion |\n",
    "| Image Segmentation   | <a href=\"https://segment-anything.com/\" >SAM</a>        | https://www.tensorflow.org/tutorials/images/segmentation |\n",
    "| Object Detection   | <a href=\"https://github.com/ultralytics/ultralytics\"> YOLOv8 </a>       | https://www.tensorflow.org/hub/tutorials/tf2_object_detection |  병 검출 |\n",
    "| Text Classification   | <a href=\"https://github.com/google-research/bert\"> BERT </a>,  <a href=\"https://github.com/snunlp/KR-BERT\"> KR_BERT </a>     | https://www.tensorflow.org/text/tutorials/classify_text_with_bert <br> https://keras.io/api/keras_nlp/models/ |  카테고리 분류, 뉴스분석 |\n",
    "| Text Generation   | <a href=\"https://openai.com/blog/chatgpt\">ChatGPT</a>, GPT4, <a href=\"https://bard.google.com\">BARD</a>, BING  | https://keras.io/examples/generative/text_generation_with_miniature_gpt/ | 코드 생성 |\n",
    "| Structured Data   |   <a href=\"https://github.com/jsyoon0823/VIME\" >VIME</a>      | https://www.tensorflow.org/tutorials/structured_data/preprocessing_layers | 카테고리 분류, 리드타임 |\n",
    "| Timeseries   |     ECG    | https://www.tensorflow.org/tutorials/generative/autoencoder | 위험운전 (비지도)\n",
    "| Timeseries   | <a href=\"https://github.com/thuml/Autoformer\">Autoformer</a>  | https://www.tensorflow.org/tutorials/structured_data/preprocessing_layers <br> https://www.tensorflow.org/tutorials/structured_data/time_series | AIS (위,경도), 대기시간, 행동인식, 코인가격 |"
   ]
  },
  {
   "cell_type": "markdown",
   "metadata": {
    "id": "tqsxJu4567Xw"
   },
   "source": [
    "## Google Trend (June, 2023)\n",
    "\n",
    "<img src=\"https://drive.google.com/uc?id=1GOEpTRnXlqpaySxndNmtUAwFGGrSVyrr\" width=\"400\"/>\n",
    "\n",
    "<img src=\"https://drive.google.com/uc?id=12X6e-PosJk5qjVIAAMzHXcIG8EDhstOF\" width=\"400\"/>\n",
    "\n",
    "\n",
    "\n"
   ]
  },
  {
   "cell_type": "markdown",
   "metadata": {
    "id": "TcpDJ_Ep510t"
   },
   "source": [
    "## Online References (필요한 부분 참고)\n",
    "\n",
    "https://wikidocs.net/book/8878\n",
    "\n",
    "https://wikidocs.net/book/2155\n",
    "\n",
    "\n",
    "\n",
    "\n",
    "\n"
   ]
  },
  {
   "cell_type": "markdown",
   "metadata": {
    "id": "X7kuV2Mq1wAz"
   },
   "source": [
    "# Install TensorFlow 2"
   ]
  },
  {
   "cell_type": "markdown",
   "metadata": {
    "id": "5KXO-0-d1z4z"
   },
   "source": [
    "https://www.tensorflow.org/install"
   ]
  },
  {
   "cell_type": "code",
   "execution_count": 1,
   "metadata": {
    "colab": {
     "base_uri": "https://localhost:8080/"
    },
    "id": "P2_IuzeLkYa_",
    "outputId": "0a792291-7798-44cf-9ad9-f47d53ec359d"
   },
   "outputs": [
    {
     "name": "stderr",
     "output_type": "stream",
     "text": [
      "UsageError: %%python is a cell magic, but the cell body is empty.\n"
     ]
    }
   ],
   "source": [
    "%%python -c 'import tensorflow as tf; print(tf.__version__)'"
   ]
  },
  {
   "cell_type": "code",
   "execution_count": 2,
   "metadata": {
    "id": "m04fdXVB1rB1"
   },
   "outputs": [
    {
     "ename": "ModuleNotFoundError",
     "evalue": "No module named 'tensorflow'",
     "output_type": "error",
     "traceback": [
      "\u001b[1;31m---------------------------------------------------------------------------\u001b[0m",
      "\u001b[1;31mModuleNotFoundError\u001b[0m                       Traceback (most recent call last)",
      "Cell \u001b[1;32mIn[2], line 1\u001b[0m\n\u001b[1;32m----> 1\u001b[0m \u001b[38;5;28;01mimport\u001b[39;00m \u001b[38;5;21;01mtensorflow\u001b[39;00m \u001b[38;5;28;01mas\u001b[39;00m \u001b[38;5;21;01mtf\u001b[39;00m\n",
      "\u001b[1;31mModuleNotFoundError\u001b[0m: No module named 'tensorflow'"
     ]
    }
   ],
   "source": [
    "import tensorflow as tf"
   ]
  },
  {
   "cell_type": "code",
   "execution_count": 3,
   "metadata": {
    "colab": {
     "base_uri": "https://localhost:8080/"
    },
    "id": "0e51gQ_LX0Sc",
    "outputId": "faef4485-1bb4-480b-8fff-dcf51d721892"
   },
   "outputs": [
    {
     "ename": "NameError",
     "evalue": "name 'tf' is not defined",
     "output_type": "error",
     "traceback": [
      "\u001b[1;31m---------------------------------------------------------------------------\u001b[0m",
      "\u001b[1;31mNameError\u001b[0m                                 Traceback (most recent call last)",
      "Cell \u001b[1;32mIn[3], line 1\u001b[0m\n\u001b[1;32m----> 1\u001b[0m \u001b[43mtf\u001b[49m\u001b[38;5;241m.\u001b[39mconfig\u001b[38;5;241m.\u001b[39mlist_physical_devices(\u001b[38;5;124m'\u001b[39m\u001b[38;5;124mGPU\u001b[39m\u001b[38;5;124m'\u001b[39m)\n",
      "\u001b[1;31mNameError\u001b[0m: name 'tf' is not defined"
     ]
    }
   ],
   "source": [
    "tf.config.list_physical_devices('GPU')"
   ]
  },
  {
   "cell_type": "markdown",
   "metadata": {
    "id": "jpchL8KOnSQ6"
   },
   "source": [
    "## TensorFlow with GPU access is supported for WSL2 on Windows 10 19044 or higher."
   ]
  },
  {
   "cell_type": "markdown",
   "metadata": {
    "id": "IV1gz0amnDpx"
   },
   "source": [
    "https://www.tensorflow.org/install/pip#windows-wsl2"
   ]
  },
  {
   "cell_type": "markdown",
   "metadata": {
    "id": "i1AWpNUPlyTS"
   },
   "source": [
    "## Local Runtime on Colab"
   ]
  },
  {
   "cell_type": "markdown",
   "metadata": {
    "id": "-YXU2l8ulyoB"
   },
   "source": [
    "https://research.google.com/colaboratory/local-runtimes.html"
   ]
  },
  {
   "cell_type": "markdown",
   "metadata": {
    "id": "ZCZIIQ6VmCaz"
   },
   "source": [
    "Install Jupyter on your local machine."
   ]
  },
  {
   "cell_type": "code",
   "execution_count": null,
   "metadata": {
    "id": "v3X6vZXlmUlN"
   },
   "outputs": [],
   "source": [
    "# http://jupyter.org/install\n",
    "!pip install jupyterlab\n",
    "!pip install notebook"
   ]
  },
  {
   "cell_type": "markdown",
   "metadata": {
    "id": "9ogwl6fKmSlX"
   },
   "source": [
    "New notebook servers are started normally, though you will need to set a flag to explicitly trust WebSocket connections from the Colab frontend."
   ]
  },
  {
   "cell_type": "code",
   "execution_count": null,
   "metadata": {
    "id": "wqTOgd0kmQt0"
   },
   "outputs": [],
   "source": [
    "!jupyter notebook \\\n",
    "    --NotebookApp.allow_origin='https://colab.research.google.com' \\\n",
    "    --port=8888 \\\n",
    "    --NotebookApp.port_retries=0"
   ]
  },
  {
   "cell_type": "markdown",
   "metadata": {
    "id": "WvXj9VrqmgK1"
   },
   "source": [
    "Once the server has started, it will print a message with the initial backend URL used for authentication. Make a copy of this URL as you'll need to provide this for step 2 below."
   ]
  },
  {
   "cell_type": "code",
   "execution_count": null,
   "metadata": {
    "id": "my8OUWZjmnt3"
   },
   "outputs": [],
   "source": [
    "# In Colab, click the \"Connect\" button and select \"Connect to local runtime...\".\n",
    "# Enter the URL from the previous step in the dialog that appears and click the \"Connect\" button.\n",
    "# After this, you should now be connected to your local runtime."
   ]
  },
  {
   "cell_type": "markdown",
   "metadata": {
    "id": "g6ofNMAQsUhu"
   },
   "source": [
    "## Model Development Workflow"
   ]
  },
  {
   "cell_type": "markdown",
   "metadata": {
    "id": "Ga_ihTuK6y4a"
   },
   "source": [
    "\n",
    "1. Understanding Datasets\n",
    "\n",
    "2. Data Preprocessing\n",
    "\n",
    "3. Exploratory Data Analysis (EDA)\n",
    "\n",
    "4. Building a Baseline Model\n",
    "\n",
    "5. Model Performance Evaluation\n",
    "\n",
    "6. Improving Model Performance\n",
    "\n",
    "\n",
    "* Machine Learning Checklist\n",
    "\n",
    "https://docs.google.com/spreadsheets/d/1kVygnwbR_YUpNFgw-6mZQuPn8ILY2m3vl32BOu7gQsc/edit#gid=39315817\n",
    "\n",
    "* Deep Learning Checklist\n",
    "\n",
    "https://docs.google.com/spreadsheets/d/1kVygnwbR_YUpNFgw-6mZQuPn8ILY2m3vl32BOu7gQsc/edit#gid=1051001003\n",
    "\n",
    "\n",
    "[참고]\n",
    "\n",
    "1. 신백균, 머신러닝/딥러닝 문제해결 전략, 2022"
   ]
  }
 ],
 "metadata": {
  "colab": {
   "provenance": []
  },
  "kernelspec": {
   "display_name": "Python 3 (ipykernel)",
   "language": "python",
   "name": "python3"
  },
  "language_info": {
   "codemirror_mode": {
    "name": "ipython",
    "version": 3
   },
   "file_extension": ".py",
   "mimetype": "text/x-python",
   "name": "python",
   "nbconvert_exporter": "python",
   "pygments_lexer": "ipython3",
   "version": "3.10.9"
  }
 },
 "nbformat": 4,
 "nbformat_minor": 1
}
