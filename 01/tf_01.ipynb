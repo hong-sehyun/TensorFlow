{
  "nbformat": 4,
  "nbformat_minor": 0,
  "metadata": {
    "colab": {
      "provenance": []
    },
    "kernelspec": {
      "name": "python3",
      "display_name": "Python 3"
    },
    "language_info": {
      "name": "python"
    }
  },
  "cells": [
    {
      "cell_type": "markdown",
      "source": [
        "Chapter01 인공지능/딥러닝/텐서플로 설치\n",
        "\n",
        "01 인공지능과 딥러닝\n",
        "\n",
        "02 텐서플로 설치"
      ],
      "metadata": {
        "id": "k5y1ANR33NY6"
      }
    },
    {
      "cell_type": "markdown",
      "source": [
        "## Deep Learning"
      ],
      "metadata": {
        "id": "OQR3LPuS73Ly"
      }
    },
    {
      "cell_type": "markdown",
      "source": [
        "\n",
        "> Deep learning is part of a broader family of machine learning methods, which is based on artificial neural networks with representation learning. Learning can be supervised, semi-supervised or unsupervised. https://en.wikipedia.org/wiki/Deep_learning\n",
        "\n",
        "<img src=\"https://upload.wikimedia.org/wikipedia/commons/thumb/b/bb/AI-ML-DL.svg/800px-AI-ML-DL.svg.png\" width=400>"
      ],
      "metadata": {
        "id": "CR6BRHU-7mhx"
      }
    },
    {
      "cell_type": "markdown",
      "source": [
        "## AI History"
      ],
      "metadata": {
        "id": "4yRmyJD57tBA"
      }
    },
    {
      "cell_type": "markdown",
      "source": [
        "http://beamlab.org/images/deep_learning_101/nn_timeline.jpg"
      ],
      "metadata": {
        "id": "F8atrrB0BEAu"
      }
    },
    {
      "cell_type": "markdown",
      "source": [
        "## DL Tasks & Models"
      ],
      "metadata": {
        "id": "fgn1bQyV7wxI"
      }
    },
    {
      "cell_type": "markdown",
      "source": [
        "| Application      | Model | Tensorflow Tutorial | Project |\n",
        "| ----------- | ----------- | ----------- | ------------ |\n",
        "| Image Classification| Alexnet, VGG, Resnet50, ViT | https://www.tensorflow.org/tutorials/keras/classification <br> https://keras.io/api/applications/| 병 분류 |\n",
        "| Image Generation      | GAN, DCGAN, Stable Diffusion <a href=\"https://www.midjourney.com\"> Midjourney </a>| https://www.tensorflow.org/tutorials/generative/dcgan  <br> https://www.tensorflow.org/tutorials/generative/generate_images_with_stable_diffusion |\n",
        "| Image Segmentation   | <a href=\"https://segment-anything.com/\" >SAM</a>        | https://www.tensorflow.org/tutorials/images/segmentation |\n",
        "| Object Detection   | <a href=\"https://github.com/ultralytics/ultralytics\"> YOLOv8 </a>       | https://www.tensorflow.org/hub/tutorials/tf2_object_detection |  병 검출 |\n",
        "| Text Classification   | <a href=\"https://github.com/google-research/bert\"> BERT </a>,  <a href=\"https://github.com/snunlp/KR-BERT\"> KR_BERT </a>     | https://www.tensorflow.org/text/tutorials/classify_text_with_bert <br> https://keras.io/api/keras_nlp/models/ |  카테고리 분류, 뉴스분석 |\n",
        "| Text Generation   | <a href=\"https://openai.com/blog/chatgpt\">ChatGPT</a>, GPT4, <a href=\"https://bard.google.com\">BARD</a>, BING  | https://keras.io/examples/generative/text_generation_with_miniature_gpt/ | 코드 생성 |\n",
        "| Structured Data   |   <a href=\"https://github.com/jsyoon0823/VIME\" >VIME</a>      | https://www.tensorflow.org/tutorials/structured_data/preprocessing_layers | 카테고리 분류, 리드타임 |\n",
        "| Timeseries   |     ECG    | https://www.tensorflow.org/tutorials/generative/autoencoder | 위험운전 (비지도)\n",
        "| Timeseries   | <a href=\"https://github.com/thuml/Autoformer\">Autoformer</a>  | https://www.tensorflow.org/tutorials/structured_data/preprocessing_layers <br> https://www.tensorflow.org/tutorials/structured_data/time_series | AIS (위,경도), 대기시간, 행동인식, 코인가격 |"
      ],
      "metadata": {
        "id": "LZZQBkLxIcSf"
      }
    },
    {
      "cell_type": "markdown",
      "source": [
        "## Google Trend (June, 2023)\n",
        "\n",
        "<img src=\"https://drive.google.com/uc?id=1GOEpTRnXlqpaySxndNmtUAwFGGrSVyrr\" width=\"400\"/>\n",
        "\n",
        "<img src=\"https://drive.google.com/uc?id=12X6e-PosJk5qjVIAAMzHXcIG8EDhstOF\" width=\"400\"/>\n",
        "\n",
        "\n",
        "\n"
      ],
      "metadata": {
        "id": "tqsxJu4567Xw"
      }
    },
    {
      "cell_type": "markdown",
      "source": [
        "## Online References (필요한 부분 참고)\n",
        "\n",
        "https://wikidocs.net/book/8878\n",
        "\n",
        "https://wikidocs.net/book/2155\n",
        "\n",
        "\n",
        "\n",
        "\n",
        "\n"
      ],
      "metadata": {
        "id": "TcpDJ_Ep510t"
      }
    },
    {
      "cell_type": "markdown",
      "source": [
        "# Install TensorFlow 2"
      ],
      "metadata": {
        "id": "X7kuV2Mq1wAz"
      }
    },
    {
      "cell_type": "markdown",
      "source": [
        "https://www.tensorflow.org/install"
      ],
      "metadata": {
        "id": "5KXO-0-d1z4z"
      }
    },
    {
      "cell_type": "code",
      "source": [
        "!python -c 'import tensorflow as tf; print(tf.__version__)'"
      ],
      "metadata": {
        "colab": {
          "base_uri": "https://localhost:8080/"
        },
        "id": "P2_IuzeLkYa_",
        "outputId": "0a792291-7798-44cf-9ad9-f47d53ec359d"
      },
      "execution_count": null,
      "outputs": [
        {
          "output_type": "stream",
          "name": "stdout",
          "text": [
            "2023-06-24 13:22:26.381621: I tensorflow/core/platform/cpu_feature_guard.cc:182] This TensorFlow binary is optimized to use available CPU instructions in performance-critical operations.\n",
            "To enable the following instructions: AVX2 FMA, in other operations, rebuild TensorFlow with the appropriate compiler flags.\n",
            "2023-06-24 13:22:29.255036: W tensorflow/compiler/tf2tensorrt/utils/py_utils.cc:38] TF-TRT Warning: Could not find TensorRT\n",
            "2.12.0\n"
          ]
        }
      ]
    },
    {
      "cell_type": "code",
      "execution_count": null,
      "metadata": {
        "id": "m04fdXVB1rB1"
      },
      "outputs": [],
      "source": [
        "import tensorflow as tf"
      ]
    },
    {
      "cell_type": "code",
      "source": [
        "tf.config.list_physical_devices('GPU')"
      ],
      "metadata": {
        "colab": {
          "base_uri": "https://localhost:8080/"
        },
        "id": "0e51gQ_LX0Sc",
        "outputId": "faef4485-1bb4-480b-8fff-dcf51d721892"
      },
      "execution_count": null,
      "outputs": [
        {
          "output_type": "execute_result",
          "data": {
            "text/plain": [
              "[]"
            ]
          },
          "metadata": {},
          "execution_count": 3
        }
      ]
    },
    {
      "cell_type": "markdown",
      "source": [
        "## TensorFlow with GPU access is supported for WSL2 on Windows 10 19044 or higher."
      ],
      "metadata": {
        "id": "jpchL8KOnSQ6"
      }
    },
    {
      "cell_type": "markdown",
      "source": [
        "https://www.tensorflow.org/install/pip#windows-wsl2"
      ],
      "metadata": {
        "id": "IV1gz0amnDpx"
      }
    },
    {
      "cell_type": "markdown",
      "source": [
        "## Local Runtime on Colab"
      ],
      "metadata": {
        "id": "i1AWpNUPlyTS"
      }
    },
    {
      "cell_type": "markdown",
      "source": [
        "https://research.google.com/colaboratory/local-runtimes.html"
      ],
      "metadata": {
        "id": "-YXU2l8ulyoB"
      }
    },
    {
      "cell_type": "markdown",
      "source": [
        "Install Jupyter on your local machine."
      ],
      "metadata": {
        "id": "ZCZIIQ6VmCaz"
      }
    },
    {
      "cell_type": "code",
      "source": [
        "# http://jupyter.org/install\n",
        "!pip install jupyterlab\n",
        "!pip install notebook"
      ],
      "metadata": {
        "id": "v3X6vZXlmUlN"
      },
      "execution_count": null,
      "outputs": []
    },
    {
      "cell_type": "markdown",
      "source": [
        "New notebook servers are started normally, though you will need to set a flag to explicitly trust WebSocket connections from the Colab frontend."
      ],
      "metadata": {
        "id": "9ogwl6fKmSlX"
      }
    },
    {
      "cell_type": "code",
      "source": [
        "!jupyter notebook \\\n",
        "    --NotebookApp.allow_origin='https://colab.research.google.com' \\\n",
        "    --port=8888 \\\n",
        "    --NotebookApp.port_retries=0"
      ],
      "metadata": {
        "id": "wqTOgd0kmQt0"
      },
      "execution_count": null,
      "outputs": []
    },
    {
      "cell_type": "markdown",
      "source": [
        "Once the server has started, it will print a message with the initial backend URL used for authentication. Make a copy of this URL as you'll need to provide this for step 2 below."
      ],
      "metadata": {
        "id": "WvXj9VrqmgK1"
      }
    },
    {
      "cell_type": "code",
      "source": [
        "# In Colab, click the \"Connect\" button and select \"Connect to local runtime...\".\n",
        "# Enter the URL from the previous step in the dialog that appears and click the \"Connect\" button.\n",
        "# After this, you should now be connected to your local runtime."
      ],
      "metadata": {
        "id": "my8OUWZjmnt3"
      },
      "execution_count": null,
      "outputs": []
    },
    {
      "cell_type": "markdown",
      "source": [
        "## Model Development Workflow"
      ],
      "metadata": {
        "id": "g6ofNMAQsUhu"
      }
    },
    {
      "cell_type": "markdown",
      "source": [
        "\n",
        "1. Understanding Datasets\n",
        "\n",
        "2. Data Preprocessing\n",
        "\n",
        "3. Exploratory Data Analysis (EDA)\n",
        "\n",
        "4. Building a Baseline Model\n",
        "\n",
        "5. Model Performance Evaluation\n",
        "\n",
        "6. Improving Model Performance\n",
        "\n",
        "\n",
        "* Machine Learning Checklist\n",
        "\n",
        "https://docs.google.com/spreadsheets/d/1kVygnwbR_YUpNFgw-6mZQuPn8ILY2m3vl32BOu7gQsc/edit#gid=39315817\n",
        "\n",
        "* Deep Learning Checklist\n",
        "\n",
        "https://docs.google.com/spreadsheets/d/1kVygnwbR_YUpNFgw-6mZQuPn8ILY2m3vl32BOu7gQsc/edit#gid=1051001003\n",
        "\n",
        "\n",
        "[참고]\n",
        "\n",
        "1. 신백균, 머신러닝/딥러닝 문제해결 전략, 2022"
      ],
      "metadata": {
        "id": "Ga_ihTuK6y4a"
      }
    }
  ]
}