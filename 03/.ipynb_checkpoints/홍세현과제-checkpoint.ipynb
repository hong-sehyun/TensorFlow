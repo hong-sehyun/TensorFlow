{
 "cells": [
  {
   "cell_type": "markdown",
   "metadata": {},
   "source": [
    "# 과제 001\n",
    "\n",
    "주어진 함수를 이용하여 gradient descent 를 직접 구현하고 그래프를 그리시오.\n",
    "\n",
    "\n",
    "**제출**\n",
    "\n",
    "구현한 코드가 담긴 colab 파일을 PLATO \"텐서플로 과제 제출 01\"에 제출하세요. (23/7/6까지)\n",
    "\n",
    "```\n",
    "def f(x):\n",
    "    return x**4 - 3*x**3 +2\n",
    "\n",
    "def fprime(x):\n",
    "    h = 0.001\n",
    "    return (f(x+h) - f(x))/h\n",
    "```\n",
    "\n",
    "* 힌트: 교과서 44p를 **참고**"
   ]
  },
  {
   "cell_type": "code",
   "execution_count": 1,
   "metadata": {},
   "outputs": [
    {
     "name": "stdout",
     "output_type": "stream",
     "text": [
      "k=336: f(2.250152587890625)=-6.542968514237657\n",
      "[f(0), f(9/4), f(-2), f(4)]= [2, -6.54296875, 42, 66]\n"
     ]
    },
    {
     "data": {
      "image/png": "[encoded data removed]",
      "text/plain": [
       "<Figure size 640x480 with 1 Axes>"
      ]
     },
     "metadata": {},
     "output_type": "display_data"
    }
   ],
   "source": [
    "import tensorflow as tf\n",
    "import numpy as np\n",
    "import matplotlib.pyplot as plt\n",
    "\n",
    "def f(x):\n",
    "    return x**4 - 3*x**3 +2\n",
    "\n",
    "def fprime(x):\n",
    "    h = 0.001\n",
    "    return (f(x+h) - f(x))/h\n",
    "\n",
    "\n",
    "k = 0\n",
    "max_iters = 1000\n",
    "lr = 0.001\n",
    "tol = 1e-5\n",
    "\n",
    "x_old = 0.0\n",
    "x_new = 4.0\n",
    "x_list= [x_new]\n",
    "x = tf.Variable(x_new, dtype = tf.float32)\n",
    "\n",
    "while abs(x_old-x_new)>tol and  k < max_iters:\n",
    "    k+=1\n",
    "    x_old= x.numpy()\n",
    "    step = lr * fprime(x)\n",
    "    x.assign_sub(step, read_value=False)\n",
    "    x_new= x.numpy()\n",
    "    x_list.append(x_new)\n",
    "print('k={}: f({})={}'.format(k, x_new, f(x_new)))\n",
    "\n",
    "print(\"[f(0), f(9/4), f(-2), f(4)]=\", [f(0), f(9/4), f(-2), f(4)])\n",
    "\n",
    "\n",
    "xs = tf.linspace(-2.0, 4.0, num = 101)\n",
    "ys = f(xs)\n",
    "plt.plot(xs, ys,  'b-')\n",
    "\n",
    "\n",
    "x_list =tf.constant(x_list, dtype=tf.float32)\n",
    "y_list = f(x_list)\n",
    "plt.plot(x_list, y_list, 'ro')\n",
    "plt.show()"
   ]
  },
  {
   "cell_type": "markdown",
   "metadata": {},
   "source": [
    "## 과제 002\n",
    "\n",
    "주어진 보스톤 주택 가격 데이터 셋을 이용하여 주택 가격을 예측하는 multiple variables regression 을 수행하는 프로그램을 직접 작성하시오.\n",
    "\n",
    "단, 아래 조건을 만족하여 구현하시오.\n",
    "\n",
    "* loss 함수: tensorflow 의 MSE\n",
    "* gradient 계산: tensorflow의 GradientTape()\n",
    "* optimizer: tensorflow의 Adam\n",
    "\n",
    "**제출**\n",
    "\n",
    "구현한 코드가 담긴 colab 파일을 PLATO \"텐서플로 과제 제출 01\"에 제출하세요. (23/7/6까지)\n",
    "\n",
    "```python\n",
    "import tensorflow as tf\n",
    "import pandas as pd\n",
    "import matplotlib.pyplot as plt\n",
    "import numpy as np\n",
    "\n",
    "# https://www.tensorflow.org/api_docs/python/tf/keras/datasets/boston_housing/load_data\n",
    "# features 설명 (http://lib.stat.cmu.edu/datasets/boston)\n",
    "# 보스톤 주택 가격(MEDV) 예측 (1인당 범죄율, 주택당 평균 방 개수, 학생대 교사 비율 등의 features 이용함)\n",
    "# MEDV(주택 가격 중앙값, 단위: $1,000)\n",
    "\n",
    "(x_train, y_train), (x_test, y_test) = tf.keras.datasets.boston_housing.load_data(\n",
    "    path='boston_housing.npz', test_split=0.2, seed=113\n",
    ")\n",
    "print('x_train.shape', 'y_train.shape', x_train.shape, y_train.shape)\n",
    "\n",
    "all_train_data = np.hstack((x_train, y_train.reshape((-1, 1))))\n",
    "column_names = ['CRIM', 'ZN', 'INDUS', 'CHAS', 'NOX', 'RM', 'AGE', 'DIS', 'RAD', 'TAX', 'PTRATIO', 'B', 'LSTAT', 'MEDV']\n",
    "df = pd.DataFrame(all_train_data, columns=column_names)\n",
    "df.head()\n",
    "sns.pairplot(df[['CRIM', 'ZN', 'INDUS', 'TAX', 'MEDV']], diag_kind='kde')\n",
    "```\n",
    "\n",
    "* 힌트:\n",
    "https://dschloe.github.io/python/tensorflow2.0/ch4_4_boston_housing_deeplearning/"
   ]
  },
  {
   "cell_type": "code",
   "execution_count": null,
   "metadata": {},
   "outputs": [],
   "source": [
    "import tensorflow as tf\n",
    "import pandas as pd\n",
    "import matplotlib.pyplot as plt\n",
    "import numpy as np\n",
    "\n",
    "# 데이터 가져오기\n",
    "(x_train, y_train), (x_test, y_test) = tf.keras.datasets.boston_housing.load_data(\n",
    "    path='boston_housing.npz', test_split=0.2, seed=113\n",
    ")\n",
    "\n",
    "\n",
    "print('x_train.shape', 'y_train.shape', x_train.shape, y_train.shape)\n",
    "\n",
    "all_train_data = np.hstack((x_train, y_train.reshape((-1, 1))))\n",
    "column_names = ['CRIM', 'ZN', 'INDUS', 'CHAS', 'NOX', 'RM', 'AGE', 'DIS', 'RAD', 'TAX', 'PTRATIO', 'B', 'LSTAT', 'MEDV']\n",
    "df = pd.DataFrame(all_train_data, columns=column_names)\n",
    "df.head()\n",
    "\n",
    "sns.pairplot(df[['CRIM', 'ZN', 'INDUS', 'TAX', 'MEDV']], diag_kind='kde')"
   ]
  }
 ],
 "metadata": {
  "kernelspec": {
   "display_name": "Python 3 (ipykernel)",
   "language": "python",
   "name": "python3"
  },
  "language_info": {
   "codemirror_mode": {
    "name": "ipython",
    "version": 3
   },
   "file_extension": ".py",
   "mimetype": "text/x-python",
   "name": "python",
   "nbconvert_exporter": "python",
   "pygments_lexer": "ipython3",
   "version": "3.10.9"
  }
 },
 "nbformat": 4,
 "nbformat_minor": 2
}
