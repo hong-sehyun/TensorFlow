{
 "cells": [
  {
   "cell_type": "markdown",
   "metadata": {},
   "source": [
    "# 과제 001\n",
    "\n",
    "주어진 함수를 이용하여 gradient descent 를 직접 구현하고 그래프를 그리시오.\n",
    "\n",
    "\n",
    "**제출**\n",
    "\n",
    "구현한 코드가 담긴 colab 파일을 PLATO \"텐서플로 과제 제출 01\"에 제출하세요. (23/7/6까지)\n",
    "\n",
    "```\n",
    "def f(x):\n",
    "    return x**4 - 3*x**3 +2\n",
    "\n",
    "def fprime(x):\n",
    "    h = 0.001\n",
    "    return (f(x+h) - f(x))/h\n",
    "```\n",
    "\n",
    "* 힌트: 교과서 44p를 **참고**"
   ]
  },
  {
   "cell_type": "code",
   "execution_count": 10,
   "metadata": {},
   "outputs": [
    {
     "ename": "SyntaxError",
     "evalue": "positional argument follows keyword argument (3348073213.py, line 28)",
     "output_type": "error",
     "traceback": [
      "\u001b[1;36m  Cell \u001b[1;32mIn[10], line 28\u001b[1;36m\u001b[0m\n\u001b[1;33m    print('k={}:f({})={}'.format(k, x_new, f(x_new))))\u001b[0m\n\u001b[1;37m                                                     ^\u001b[0m\n\u001b[1;31mSyntaxError\u001b[0m\u001b[1;31m:\u001b[0m positional argument follows keyword argument\n"
     ]
    }
   ],
   "source": [
    "import tensorflow as tf\n",
    "import numpy as np\n",
    "import matplotlib.pyplot as plt\n",
    "\n",
    "def f(x):\n",
    "    return x**4 - 3*x**3 +2\n",
    "\n",
    "def fprime(x):\n",
    "    h = 0.001\n",
    "    return (f(x+h) - f(x))/h\n",
    "\n",
    "k = 0\n",
    "lr = 0.001\n",
    "tol = 1e-5\n",
    "\n",
    "x_old = 0.0\n",
    "x_new = 4.0\n",
    "x_list = [x_new]\n",
    "x = tf.Variable(x_new, dtype = tf.float32)\n",
    "\n",
    "while abs(x_old - x_new) > tol and k < max_iters:\n",
    "    k+=1\n",
    "    x_old = x.numpy()\n",
    "    step = lr * fprime(x)\n",
    "    x.assign_sub(step, read_value = False,\n",
    "    x_new = x.numpy(),\n",
    "    x_list.append(x_new),\n",
    "    print('k={}:f({})={}'.format(k, x_new, f(x_new))))"
   ]
  }
 ],
 "metadata": {
  "kernelspec": {
   "display_name": "Python 3 (ipykernel)",
   "language": "python",
   "name": "python3"
  },
  "language_info": {
   "codemirror_mode": {
    "name": "ipython",
    "version": 3
   },
   "file_extension": ".py",
   "mimetype": "text/x-python",
   "name": "python",
   "nbconvert_exporter": "python",
   "pygments_lexer": "ipython3",
   "version": "3.10.9"
  }
 },
 "nbformat": 4,
 "nbformat_minor": 2
}
